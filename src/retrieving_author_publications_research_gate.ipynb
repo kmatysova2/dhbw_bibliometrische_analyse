{
 "cells": [
  {
   "cell_type": "code",
   "execution_count": 103,
   "metadata": {},
   "outputs": [],
   "source": [
    "#!pip install nest_asyncio"
   ]
  },
  {
   "cell_type": "code",
   "execution_count": 104,
   "metadata": {},
   "outputs": [],
   "source": [
    "import requests\n",
    "import urllib\n",
    "import pandas as pd\n",
    "from requests_html import HTML\n",
    "from requests_html import HTMLSession\n",
    "\n",
    "from bs4 import BeautifulSoup\n",
    "import re\n",
    "import time"
   ]
  },
  {
   "cell_type": "code",
   "execution_count": 105,
   "metadata": {},
   "outputs": [],
   "source": [
    "def get_source(url):\n",
    "    \"\"\"Return the source code for the provided URL. \n",
    "    Args: \n",
    "        url (string): URL of the page to scrape.\n",
    "    Returns:\n",
    "        response (object): HTTP response object from requests_html. \n",
    "    \"\"\"\n",
    "    time.sleep(5) # prevents captcha hopefully\n",
    "\n",
    "    try:\n",
    "        session = HTMLSession()\n",
    "        response = session.get(url)\n",
    "        \n",
    "        if response.status_code == 429:\n",
    "            raise requests.exceptions.RequestException(f\"Too many requests have been made. Stopped at url:{url}\")\n",
    "        \n",
    "        return response\n",
    "\n",
    "    except requests.exceptions.RequestException as e:\n",
    "        print(e)"
   ]
  },
  {
   "cell_type": "code",
   "execution_count": 106,
   "metadata": {},
   "outputs": [],
   "source": [
    "def get_author_profile(author_name):\n",
    "    \n",
    "    # get HTML response for author\n",
    "    author_name = author_name.replace(\"ä\", \"ae\").replace(\"ö\", \"oe\").replace(\"ü\", \"ue\").replace(\"ß\", \"ss\")\n",
    "    query = author_name.replace(\" \", \"-\")\n",
    "    response = get_source(\"https://www.researchgate.net/profile/\" + query)\n",
    "    soup = BeautifulSoup(response.html.raw_html)\n",
    "        \n",
    "    return soup"
   ]
  },
  {
   "cell_type": "code",
   "execution_count": 107,
   "metadata": {},
   "outputs": [],
   "source": [
    "def get_author_publication_list(author_name, page):\n",
    "    \n",
    "    # get HTML response for author\n",
    "    author_name = author_name.replace(\"ä\", \"ae\").replace(\"ö\", \"oe\").replace(\"ü\", \"ue\").replace(\"ß\", \"ss\")\n",
    "    query = author_name.replace(\" \", \"+\")\n",
    "    response = get_source(f\"https://www.researchgate.net/search/publication?q=\\\"{query}\\\"&page={page}\")\n",
    "    soup = BeautifulSoup(response.html.raw_html)\n",
    "    \n",
    "    return soup"
   ]
  },
  {
   "cell_type": "code",
   "execution_count": 108,
   "metadata": {},
   "outputs": [],
   "source": [
    "def get_all_publications(page):\n",
    "    return page.find_all(\"div\", class_=\"nova-legacy-v-publication-item__body\")"
   ]
  },
  {
   "cell_type": "code",
   "execution_count": 109,
   "metadata": {},
   "outputs": [],
   "source": [
    "def get_publisher(publication_link, publication_type):\n",
    "    \n",
    "    publication_profile = BeautifulSoup(get_source(publication_link).html.raw_html)\n",
    "    \n",
    "    metadata = publication_profile.find(\"div\", class_=\"research-detail-header-section__metadata\")\n",
    "\n",
    "    publisher = None\n",
    "    \n",
    "    if not metadata: # don't search for publisher if no metadata\n",
    "        pass\n",
    "    \n",
    "    elif publication_type == 'Article':\n",
    "\n",
    "        if metadata.find(\"a\", class_=\"nova-legacy-e-link nova-legacy-e-link--color-inherit nova-legacy-e-link--theme-decorated\"):\n",
    "            publisher = metadata.find(\"a\", class_=\"nova-legacy-e-link nova-legacy-e-link--color-inherit nova-legacy-e-link--theme-decorated\").text\n",
    "\n",
    "    elif publication_type in ['Book', 'Chapter']:\n",
    "\n",
    "        if metadata.find(\"li\", class_=\"nova-legacy-e-list__item\"):\n",
    "\n",
    "            # there are multiple items with that class\n",
    "            for meta in metadata.find_all(\"li\", class_=\"nova-legacy-e-list__item\"):\n",
    "                if \"Publisher\" in meta.text:\n",
    "                    publisher = meta.text.split(\"Publisher: \",1)[1]\n",
    "\n",
    "    elif publication_type in ['Poster', 'Conference Paper']:\n",
    "\n",
    "        if metadata.find(\"li\", class_=\"nova-legacy-e-list__item\"):\n",
    "\n",
    "            # there are multiple items with that class\n",
    "            for meta in metadata.find_all(\"li\", class_=\"nova-legacy-e-list__item\"):\n",
    "                if \"Conference\" in meta.text:\n",
    "                    publisher = meta.text.split(\"Conference: \",1)[1]\n",
    "                    \n",
    "    return publisher"
   ]
  },
  {
   "cell_type": "code",
   "execution_count": 110,
   "metadata": {},
   "outputs": [],
   "source": [
    "def get_publication_info(publication):\n",
    "    \n",
    "    publication_title = \"\"\n",
    "    publication_year = \"\"\n",
    "    authors_list = []\n",
    "    publication_type = \"\"\n",
    "    publisher = \"\"\n",
    "    \n",
    "    # publication title\n",
    "    if publication.find(\"div\", class_=\"nova-legacy-e-text nova-legacy-e-text--size-l nova-legacy-e-text--family-sans-serif nova-legacy-e-text--spacing-none nova-legacy-e-text--color-inherit nova-legacy-v-publication-item__title\"):\n",
    "        publication_title = publication.find(\"div\", class_=\"nova-legacy-e-text nova-legacy-e-text--size-l nova-legacy-e-text--family-sans-serif nova-legacy-e-text--spacing-none nova-legacy-e-text--color-inherit nova-legacy-v-publication-item__title\").string\n",
    "\n",
    "    # publication year\n",
    "    if publication.find(\"li\", class_=\"nova-legacy-e-list__item nova-legacy-v-publication-item__meta-data-item\"):\n",
    "        publication_year_string = publication.find(\"li\", class_=\"nova-legacy-e-list__item nova-legacy-v-publication-item__meta-data-item\").string\n",
    "        publication_year = re.search(r\"([0-9]{4})\", publication_year_string).group(1) # only get year\n",
    "    \n",
    "    # authors\n",
    "    if publication.find(\"span\", class_=\"nova-legacy-v-person-inline-item__fullname\"):\n",
    "        publication_author_list = publication.find_all(\"span\", class_=\"nova-legacy-v-person-inline-item__fullname\")\n",
    "        authors_list = [x.text for x in publication_author_list]\n",
    "    \n",
    "    # publication type\n",
    "    if publication.find(\"span\", class_= \"nova-legacy-e-badge nova-legacy-e-badge--color-green nova-legacy-e-badge--display-block nova-legacy-e-badge--luminosity-high nova-legacy-e-badge--size-l nova-legacy-e-badge--theme-solid nova-legacy-e-badge--radius-m nova-legacy-v-publication-item__badge\"):\n",
    "        publication_type = publication.find(\"span\", class_= \"nova-legacy-e-badge nova-legacy-e-badge--color-green nova-legacy-e-badge--display-block nova-legacy-e-badge--luminosity-high nova-legacy-e-badge--size-l nova-legacy-e-badge--theme-solid nova-legacy-e-badge--radius-m nova-legacy-v-publication-item__badge\").text\n",
    "    \n",
    "    # publisher\n",
    "    if publication.find(\"div\", class_=\"nova-legacy-e-text nova-legacy-e-text--size-l nova-legacy-e-text--family-sans-serif nova-legacy-e-text--spacing-none nova-legacy-e-text--color-inherit nova-legacy-v-publication-item__title\")\\\n",
    "    .find(\"a\", class_=\"nova-legacy-e-link nova-legacy-e-link--color-inherit nova-legacy-e-link--theme-bare\"):\n",
    "\n",
    "        publication_link = publication.find(\"div\", class_=\"nova-legacy-e-text nova-legacy-e-text--size-l nova-legacy-e-text--family-sans-serif nova-legacy-e-text--spacing-none nova-legacy-e-text--color-inherit nova-legacy-v-publication-item__title\")\\\n",
    "        .find(\"a\", class_=\"nova-legacy-e-link nova-legacy-e-link--color-inherit nova-legacy-e-link--theme-bare\")['href']\n",
    "        \n",
    "        if not publication_link.startswith(\"https://www.researchgate.net/\"):\n",
    "            publication_link = \"https://www.researchgate.net/\" + publication_link\n",
    "        \n",
    "        publisher = get_publisher(publication_link, publication_type)\n",
    "    \n",
    "    return publication_title, publication_year, authors_list, publication_type, publisher"
   ]
  },
  {
   "cell_type": "code",
   "execution_count": 111,
   "metadata": {},
   "outputs": [],
   "source": [
    "def get_dataframe_with_publications(author_name):\n",
    "    author_profile = get_author_profile(author_name)\n",
    "    \n",
    "    publication_titles = []\n",
    "    publication_years = []\n",
    "    authors_lists = []\n",
    "    publication_types = []\n",
    "    publisher_list = []\n",
    "    author_name_list = []\n",
    "\n",
    "    \n",
    "    if author_profile:\n",
    "        all_publication_entries = get_all_publications(author_profile)\n",
    "        \n",
    "    for publication_entry in all_publication_entries:\n",
    "        publication_title, publication_year, authors_list, publication_type, publisher = get_publication_info(publication_entry)\n",
    "\n",
    "        publication_titles.append(publication_title)\n",
    "        publication_years.append(publication_year)\n",
    "        authors_lists.append(authors_list)\n",
    "        publication_types.append(publication_type)\n",
    "        author_name_list.append(author_name)\n",
    "        publisher_list.append(publisher)\n",
    "    \n",
    "    \n",
    "    data = {\n",
    "            'AUTHOR_NAME': author_name_list,\n",
    "            'PUB_TITLE': publication_titles, \n",
    "            'PUB_YEAR': publication_years, \n",
    "            'PUB_AUTHORS': authors_lists,  \n",
    "            'PUB_TYPE': publication_types,\n",
    "            'PUB_PUBLISHER': publisher_list\n",
    "           }\n",
    "    \n",
    "    return pd.DataFrame(data)"
   ]
  },
  {
   "cell_type": "code",
   "execution_count": 112,
   "metadata": {},
   "outputs": [],
   "source": [
    "def get_dataframe_with_publications_no_profile(author_name):\n",
    "    \n",
    "    publication_titles = []\n",
    "    publication_years = []\n",
    "    authors_lists = []\n",
    "    publication_types = []\n",
    "    publisher_list = []\n",
    "    author_name_list = []\n",
    "    \n",
    "    keep_going = True\n",
    "    page_number = 1\n",
    "    \n",
    "    while keep_going:\n",
    "        page_with_publications = get_author_publication_list(author_name, page_number)\n",
    "        page_number = page_number + 1 # go to next page\n",
    "        \n",
    "        all_publication_entries = get_all_publications(page_with_publications)\n",
    "        \n",
    "        if not all_publication_entries:\n",
    "            keep_going = False\n",
    "            continue\n",
    "        \n",
    "        for publication_entry in all_publication_entries:\n",
    "            publication_title, publication_year, authors_list, publication_type, publisher = get_publication_info(publication_entry)\n",
    "        \n",
    "            publication_titles.append(publication_title)\n",
    "            publication_years.append(publication_year)\n",
    "            authors_lists.append(authors_list)\n",
    "            publication_types.append(publication_type)\n",
    "            author_name_list.append(author_name)\n",
    "            publisher_list.append(publisher)\n",
    "    \n",
    "    \n",
    "    data = {\n",
    "            'AUTHOR_NAME': author_name_list,\n",
    "            'PUB_TITLE': publication_titles, \n",
    "            'PUB_YEAR': publication_years, \n",
    "            'PUB_AUTHORS': authors_lists,  \n",
    "            'PUB_TYPE': publication_types,\n",
    "            'PUB_PUBLISHER': publisher_list\n",
    "           }\n",
    "    \n",
    "    return pd.DataFrame(data)"
   ]
  },
  {
   "cell_type": "code",
   "execution_count": 113,
   "metadata": {},
   "outputs": [
    {
     "name": "stdout",
     "output_type": "stream",
     "text": [
      "Too many requests have been made. Stopped at url:https://www.researchgate.net/search/publication?q=\"Gerhard+Hellstern\"&page=3\n"
     ]
    },
    {
     "ename": "AttributeError",
     "evalue": "'NoneType' object has no attribute 'html'",
     "output_type": "error",
     "traceback": [
      "\u001b[1;31m---------------------------------------------------------------------------\u001b[0m",
      "\u001b[1;31mAttributeError\u001b[0m                            Traceback (most recent call last)",
      "\u001b[1;32m<ipython-input-113-1dbe3f62d1bc>\u001b[0m in \u001b[0;36m<module>\u001b[1;34m\u001b[0m\n\u001b[0;32m      9\u001b[0m \u001b[1;33m\u001b[0m\u001b[0m\n\u001b[0;32m     10\u001b[0m     \u001b[1;32mif\u001b[0m \u001b[0mpd_publications\u001b[0m\u001b[1;33m.\u001b[0m\u001b[0mempty\u001b[0m\u001b[1;33m:\u001b[0m\u001b[1;33m\u001b[0m\u001b[1;33m\u001b[0m\u001b[0m\n\u001b[1;32m---> 11\u001b[1;33m         \u001b[0mpd_publications\u001b[0m \u001b[1;33m=\u001b[0m \u001b[0mget_dataframe_with_publications_no_profile\u001b[0m\u001b[1;33m(\u001b[0m\u001b[0mauthor_name\u001b[0m\u001b[1;33m)\u001b[0m\u001b[1;33m\u001b[0m\u001b[1;33m\u001b[0m\u001b[0m\n\u001b[0m\u001b[0;32m     12\u001b[0m \u001b[1;33m\u001b[0m\u001b[0m\n\u001b[0;32m     13\u001b[0m         \u001b[1;32mif\u001b[0m \u001b[0mpd_publications\u001b[0m\u001b[1;33m.\u001b[0m\u001b[0mempty\u001b[0m\u001b[1;33m:\u001b[0m\u001b[1;33m\u001b[0m\u001b[1;33m\u001b[0m\u001b[0m\n",
      "\u001b[1;32m<ipython-input-112-da0719799412>\u001b[0m in \u001b[0;36mget_dataframe_with_publications_no_profile\u001b[1;34m(author_name)\u001b[0m\n\u001b[0;32m     12\u001b[0m \u001b[1;33m\u001b[0m\u001b[0m\n\u001b[0;32m     13\u001b[0m     \u001b[1;32mwhile\u001b[0m \u001b[0mkeep_going\u001b[0m\u001b[1;33m:\u001b[0m\u001b[1;33m\u001b[0m\u001b[1;33m\u001b[0m\u001b[0m\n\u001b[1;32m---> 14\u001b[1;33m         \u001b[0mpage_with_publications\u001b[0m \u001b[1;33m=\u001b[0m \u001b[0mget_author_publication_list\u001b[0m\u001b[1;33m(\u001b[0m\u001b[0mauthor_name\u001b[0m\u001b[1;33m,\u001b[0m \u001b[0mpage_number\u001b[0m\u001b[1;33m)\u001b[0m\u001b[1;33m\u001b[0m\u001b[1;33m\u001b[0m\u001b[0m\n\u001b[0m\u001b[0;32m     15\u001b[0m         \u001b[0mpage_number\u001b[0m \u001b[1;33m=\u001b[0m \u001b[0mpage_number\u001b[0m \u001b[1;33m+\u001b[0m \u001b[1;36m1\u001b[0m \u001b[1;31m# go to next page\u001b[0m\u001b[1;33m\u001b[0m\u001b[1;33m\u001b[0m\u001b[0m\n\u001b[0;32m     16\u001b[0m \u001b[1;33m\u001b[0m\u001b[0m\n",
      "\u001b[1;32m<ipython-input-107-d375d3ad054e>\u001b[0m in \u001b[0;36mget_author_publication_list\u001b[1;34m(author_name, page)\u001b[0m\n\u001b[0;32m      5\u001b[0m     \u001b[0mquery\u001b[0m \u001b[1;33m=\u001b[0m \u001b[0mauthor_name\u001b[0m\u001b[1;33m.\u001b[0m\u001b[0mreplace\u001b[0m\u001b[1;33m(\u001b[0m\u001b[1;34m\" \"\u001b[0m\u001b[1;33m,\u001b[0m \u001b[1;34m\"+\"\u001b[0m\u001b[1;33m)\u001b[0m\u001b[1;33m\u001b[0m\u001b[1;33m\u001b[0m\u001b[0m\n\u001b[0;32m      6\u001b[0m     \u001b[0mresponse\u001b[0m \u001b[1;33m=\u001b[0m \u001b[0mget_source\u001b[0m\u001b[1;33m(\u001b[0m\u001b[1;34mf\"https://www.researchgate.net/search/publication?q=\\\"{query}\\\"&page={page}\"\u001b[0m\u001b[1;33m)\u001b[0m\u001b[1;33m\u001b[0m\u001b[1;33m\u001b[0m\u001b[0m\n\u001b[1;32m----> 7\u001b[1;33m     \u001b[0msoup\u001b[0m \u001b[1;33m=\u001b[0m \u001b[0mBeautifulSoup\u001b[0m\u001b[1;33m(\u001b[0m\u001b[0mresponse\u001b[0m\u001b[1;33m.\u001b[0m\u001b[0mhtml\u001b[0m\u001b[1;33m.\u001b[0m\u001b[0mraw_html\u001b[0m\u001b[1;33m)\u001b[0m\u001b[1;33m\u001b[0m\u001b[1;33m\u001b[0m\u001b[0m\n\u001b[0m\u001b[0;32m      8\u001b[0m \u001b[1;33m\u001b[0m\u001b[0m\n\u001b[0;32m      9\u001b[0m     \u001b[1;32mreturn\u001b[0m \u001b[0msoup\u001b[0m\u001b[1;33m\u001b[0m\u001b[1;33m\u001b[0m\u001b[0m\n",
      "\u001b[1;31mAttributeError\u001b[0m: 'NoneType' object has no attribute 'html'"
     ]
    }
   ],
   "source": [
    "# get HTML response for author\n",
    "#author_name = \"Stephan Daurer\"\n",
    "author_names = [\"Katerina Matysova\", \"Gerhard Hellstern\", \"Michael Bächle\", \"Thomas Asche\", \"Oliver Bährle\", \"Wolfgang Bihler\"]\n",
    "\n",
    "list_of_dicts_with_result = pd.DataFrame(columns=['PUB_TITLE', 'PUB_YEAR', 'PUB_AUTHORS', 'PUB_TYPE', 'PUB_PUBLISHER', 'AUTHOR_NAME'])\n",
    "\n",
    "for author_name in author_names:\n",
    "    pd_publications = get_dataframe_with_publications(author_name)\n",
    "    \n",
    "    if pd_publications.empty:\n",
    "        pd_publications = get_dataframe_with_publications_no_profile(author_name)\n",
    "        \n",
    "        if pd_publications.empty:\n",
    "            print(f\"No publications found for {author_name}.\")\n",
    "            \n",
    "    list_of_dicts_with_result = list_of_dicts_with_result.append(pd_publications)\n",
    "        "
   ]
  },
  {
   "cell_type": "code",
   "execution_count": null,
   "metadata": {},
   "outputs": [],
   "source": [
    "pd_publications"
   ]
  },
  {
   "cell_type": "code",
   "execution_count": null,
   "metadata": {},
   "outputs": [],
   "source": [
    "list_of_dicts_with_result.append(pd_publications)\n",
    "# 9:40 Uhr"
   ]
  }
 ],
 "metadata": {
  "kernelspec": {
   "display_name": "Python 3",
   "language": "python",
   "name": "python3"
  },
  "language_info": {
   "codemirror_mode": {
    "name": "ipython",
    "version": 3
   },
   "file_extension": ".py",
   "mimetype": "text/x-python",
   "name": "python",
   "nbconvert_exporter": "python",
   "pygments_lexer": "ipython3",
   "version": "3.8.3"
  }
 },
 "nbformat": 4,
 "nbformat_minor": 4
}
