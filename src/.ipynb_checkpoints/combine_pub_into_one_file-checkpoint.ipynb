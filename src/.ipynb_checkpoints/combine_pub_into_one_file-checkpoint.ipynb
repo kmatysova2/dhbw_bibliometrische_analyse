{
 "cells": [
  {
   "cell_type": "code",
   "execution_count": 214,
   "metadata": {},
   "outputs": [],
   "source": [
    "import pandas as pd\n",
    "import os\n",
    "import re\n",
    "from collections import Counter\n",
    "import math\n",
    "import numpy as np\n",
    "\n",
    "# progress bar\n",
    "from ipywidgets import IntProgress\n",
    "from IPython.display import display\n",
    "import time"
   ]
  },
  {
   "cell_type": "code",
   "execution_count": 187,
   "metadata": {},
   "outputs": [],
   "source": [
    "columns = ['AUTHOR_NAME', 'PUB_TITLE', 'PUB_YEAR', 'PUB_AUTHORS', 'PUB_NUMBER_AUTHORS', 'PUB_TYPE',\n",
    "       'PUB_PUBLISHER', 'PUB_ISBN', 'PUB_DOI', 'PUB_CITATIONS',\n",
    "       'JOU_RATING_VHB', 'JOU_RATING_SCIMAGO', 'UPDATED', 'YEAR_STORED',\n",
    "       'SITE']\n",
    "df_all_sites = pd.DataFrame(columns=columns)"
   ]
  },
  {
   "cell_type": "code",
   "execution_count": 188,
   "metadata": {},
   "outputs": [],
   "source": [
    "files_in_data = os.listdir(\"../data\")\n",
    "\n",
    "WORD = re.compile(r\"\\w+\")\n",
    "p = re.compile('[0-9]{4}')\n",
    "year_list = [ s for s in files_in_data if p.match(s)]"
   ]
  },
  {
   "cell_type": "code",
   "execution_count": 189,
   "metadata": {},
   "outputs": [],
   "source": [
    "# re.sub(\"\\[[A-Z ]+\\]\", \"\", title).strip()"
   ]
  },
  {
   "cell_type": "code",
   "execution_count": 190,
   "metadata": {},
   "outputs": [],
   "source": [
    "def list_value_counts(list_string):\n",
    "    clean_list = list_string.replace(\"'\", \"\").split(\",\")\n",
    "    return len(clean_list)"
   ]
  },
  {
   "cell_type": "code",
   "execution_count": 207,
   "metadata": {},
   "outputs": [],
   "source": [
    "# cleaning the journal names\n",
    "\n",
    "def clean_journals(journal_name):\n",
    "\n",
    "    # remove everything within brackets\n",
    "    journal_name = re.sub('\\(.+\\)', '', journal_name)\n",
    "    journal_name = re.sub('\\[.+\\]', '', journal_name)\n",
    "    \n",
    "    # remove everythning after period\n",
    "    journal_name = journal_name.split(\".\")[0]\n",
    "    \n",
    "    # remove non-word characters at the end\n",
    "    journal_name = re.sub('\\W*$', '', journal_name)\n",
    "    \n",
    "    journal_name = journal_name.strip()\n",
    "    \n",
    "    return journal_name\n",
    "\n",
    "def get_alternate_journal_names(journal_string):\n",
    "    \n",
    "    journal_string = journal_string.replace(\"früher: \", \"\").replace(':','(').replace('-','(').replace('.','(')\n",
    "    alternate_journal_names = list(map(clean_journals, journal_string.split(\"(\", 2)))\n",
    "    alternate_journal_names.sort(key = len, reverse=True)\n",
    "    \n",
    "    return alternate_journal_names"
   ]
  },
  {
   "cell_type": "code",
   "execution_count": 192,
   "metadata": {},
   "outputs": [],
   "source": [
    "### Journal ratings\n",
    "J_RATINGS_SCIMAGO = pd.read_csv(f'../data/journal_ratings_scimago.csv', sep=\";\")\n",
    "J_RATINGS_VHB = pd.read_csv(f'../data/journal_ratings_vhb.csv')\n",
    "\n",
    "# create columns in journal databases\n",
    "J_RATINGS_SCIMAGO[['Title', 'ALTERNATE1', 'ALTERNATE2']] = pd.DataFrame(J_RATINGS_SCIMAGO['Title']\n",
    "                                                                        .apply(get_alternate_journal_names).tolist(), \n",
    "                                                                        index = J_RATINGS_SCIMAGO.index)\n",
    "J_RATINGS_VHB[['JOURNAL', 'ALTERNATE1', 'ALTERNATE2']] = pd.DataFrame(J_RATINGS_VHB['JOURNAL']\n",
    "                                                                      .apply(get_alternate_journal_names).tolist(), \n",
    "                                                                      index = J_RATINGS_VHB.index)"
   ]
  },
  {
   "cell_type": "code",
   "execution_count": 194,
   "metadata": {},
   "outputs": [],
   "source": [
    "# functions to get similarity of strings using cosine similarity\n",
    "\n",
    "def get_cosine(vec1, vec2):\n",
    "    intersection = set(vec1.keys()) & set(vec2.keys())\n",
    "    numerator = sum([vec1[x] * vec2[x] for x in intersection])\n",
    "\n",
    "    sum1 = sum([vec1[x] ** 2 for x in list(vec1.keys())])\n",
    "    sum2 = sum([vec2[x] ** 2 for x in list(vec2.keys())])\n",
    "    denominator = math.sqrt(sum1) * math.sqrt(sum2)\n",
    "\n",
    "\n",
    "    if not denominator:\n",
    "        return 0.0\n",
    "    else:\n",
    "        return float(numerator) / denominator\n",
    "\n",
    "\n",
    "def text_to_vector(text):\n",
    "    words = WORD.findall(text)\n",
    "    return Counter(words)\n",
    "\n",
    "def is_similar(text1, text2):\n",
    "    \n",
    "    vector1 = text_to_vector(str(text1).lower())\n",
    "    vector2 = text_to_vector(str(text2).lower())\n",
    "\n",
    "    cosine = get_cosine(vector1, vector2)\n",
    "    \n",
    "    if cosine > 0.6:\n",
    "        similar = True\n",
    "    else:\n",
    "        similar = False\n",
    "        \n",
    "    return similar\n",
    "\n",
    "def get_ratings(publisher):\n",
    "     \n",
    "    publisher = str(publisher).lower()\n",
    "\n",
    "    if publisher == \"nan\":\n",
    "        rating_vhb = None\n",
    "        issn_vhb = None\n",
    "        rating_sci = None\n",
    "        issn_sci = None\n",
    "        \n",
    "    else:\n",
    "        \n",
    "        rating_database = J_RATINGS_VHB\n",
    "        rating_database['JOURNAL'] = rating_database['JOURNAL'].str.lower()\n",
    "        rating_database['ALTERNATE1'] = rating_database['ALTERNATE1'].str.lower()\n",
    "        rating_database['ALTERNATE2'] = rating_database['ALTERNATE2'].str.lower()\n",
    "        \n",
    "        \n",
    "        rating_vhb = None\n",
    "        issn_vhb = None\n",
    "        \n",
    "        \n",
    "        for journal_string in get_alternate_journal_names(publisher):\n",
    "            \n",
    "            \n",
    "            if publisher in rating_database['JOURNAL'].values:\n",
    "                rating_vhb = rating_database.loc[rating_database['JOURNAL'] == publisher, 'JQ3'].to_numpy()[0]\n",
    "                \n",
    "            if publisher in rating_database['ALTERNATE1'].values:\n",
    "                rating_vhb = rating_database.loc[rating_database['ALTERNATE1'] == publisher, 'JQ3'].to_numpy()[0]\n",
    "                \n",
    "            if publisher in rating_database['ALTERNATE2'].values:\n",
    "                rating_vhb = rating_database.loc[rating_database['ALTERNATE2'] == publisher, 'JQ3'].to_numpy()[0]\n",
    "                \n",
    "            elif index_similar := [i for i, x in enumerate(rating_database['JOURNAL']) if is_similar(publisher,x)]:\n",
    "                rating_vhb = rating_database.loc[index_similar[0], 'JQ3']  \n",
    "\n",
    "        \n",
    "        rating_database = J_RATINGS_SCIMAGO\n",
    "        \n",
    "        rating_database['Title'] = rating_database['Title'].str.lower()\n",
    "        rating_database['ALTERNATE1'] = rating_database['ALTERNATE1'].str.lower()\n",
    "        rating_database['ALTERNATE2'] = rating_database['ALTERNATE2'].str.lower()\n",
    "                \n",
    "        rating_sci = None\n",
    "        issn_sci = None\n",
    "        \n",
    "        for journal_string in get_alternate_journal_names(publisher):\n",
    "            \n",
    "            if publisher in rating_database['Title'].str.lower().values:\n",
    "                rating_sci = rating_database.loc[rating_database['Title'] == publisher, 'H index'].to_numpy()[0]\n",
    "\n",
    "            if publisher in rating_database['ALTERNATE1'].str.lower().values:\n",
    "                rating_sci = rating_database.loc[rating_database['ALTERNATE1'] == publisher, 'H index'].to_numpy()[0]\n",
    "\n",
    "            if publisher in rating_database['ALTERNATE2'].str.lower().values:\n",
    "                rating_sci = rating_database.loc[rating_database['ALTERNATE2'] == publisher, 'H index'].to_numpy()[0]\n",
    "                \n",
    "            elif index_similar := [i for i, x in enumerate(rating_database['Title']) if is_similar(publisher,x)]:\n",
    "                rating_sci = rating_database.loc[index_similar[0], 'H index']\n",
    "\n",
    "    f.value += 1 # signal to increment the progress bar\n",
    "            \n",
    "    return rating_vhb, rating_sci\n",
    "\n",
    "# 'JOU_RATING_VHB', 'JOU_RATING_SCIMAGO'"
   ]
  },
  {
   "cell_type": "code",
   "execution_count": 195,
   "metadata": {},
   "outputs": [],
   "source": [
    "for year in year_list:\n",
    "\n",
    "    files_in_year = os.listdir(f\"../data/{year}\")\n",
    "\n",
    "    q = re.compile('publications_[a-z-]+.csv')\n",
    "    publication_file_list = [ s for s in files_in_year if q.match(s)]\n",
    "    \n",
    "    for publication_file_name in publication_file_list:\n",
    "        site = publication_file_name.replace('publications_', '').replace('.csv', '')\n",
    "        \n",
    "        site_publications = pd.read_csv(f'../data/{year}/{publication_file_name}')\n",
    "        \n",
    "        site_publications[\"YEAR_STORED\"] = year\n",
    "        site_publications[\"SITE\"] = site\n",
    "        \n",
    "        # count number of authors\n",
    "        site_publications[\"PUB_NUMBER_AUTHORS\"] = site_publications[\"PUB_AUTHORS\"].apply(list_value_counts).copy()\n",
    "\n",
    "        df_all_sites = df_all_sites.append(site_publications)\n",
    "        "
   ]
  },
  {
   "cell_type": "code",
   "execution_count": 196,
   "metadata": {},
   "outputs": [
    {
     "data": {
      "application/vnd.jupyter.widget-view+json": {
       "model_id": "bfaff36529164b229a03ac9461f9983c",
       "version_major": 2,
       "version_minor": 0
      },
      "text/plain": [
       "IntProgress(value=0, max=16729)"
      ]
     },
     "metadata": {},
     "output_type": "display_data"
    }
   ],
   "source": [
    "### progress bar\n",
    "max_count = len(df_all_sites)\n",
    "\n",
    "f = IntProgress(min=0, max=max_count) # instantiate the bar\n",
    "display(f) # display the bar\n",
    "\n",
    "### progress bar end \n",
    "\n",
    "#clean\n",
    "# insert journal ratings\n",
    "df_all_sites[['JOU_RATING_VHB', 'JOU_RATING_SCIMAGO']] = df_all_sites.apply(\\\n",
    "            lambda row: get_ratings(row['PUB_PUBLISHER']), axis=1, result_type='expand')"
   ]
  },
  {
   "cell_type": "code",
   "execution_count": 222,
   "metadata": {},
   "outputs": [],
   "source": [
    "df_all_sites['PUB_PUBLISHER'] = df_all_sites.apply(lambda row: clean_journals(row['PUB_PUBLISHER']) if(np.all(pd.notnull(row['PUB_PUBLISHER']))) else None, axis = 1)"
   ]
  },
  {
   "cell_type": "code",
   "execution_count": 224,
   "metadata": {},
   "outputs": [],
   "source": [
    "df_all_sites.to_csv(f'../data/publications_all_sites_all_years.csv', index=False)"
   ]
  },
  {
   "cell_type": "code",
   "execution_count": 221,
   "metadata": {},
   "outputs": [],
   "source": [
    "#df_all_sites = pd.read_csv(f'../data/publications_all_sites_all_years.csv')"
   ]
  }
 ],
 "metadata": {
  "kernelspec": {
   "display_name": "Python 3",
   "language": "python",
   "name": "python3"
  },
  "language_info": {
   "codemirror_mode": {
    "name": "ipython",
    "version": 3
   },
   "file_extension": ".py",
   "mimetype": "text/x-python",
   "name": "python",
   "nbconvert_exporter": "python",
   "pygments_lexer": "ipython3",
   "version": "3.8.3"
  }
 },
 "nbformat": 4,
 "nbformat_minor": 4
}
