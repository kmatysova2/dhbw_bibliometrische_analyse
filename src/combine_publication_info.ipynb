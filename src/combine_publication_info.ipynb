{
 "cells": [
  {
   "cell_type": "code",
   "execution_count": 107,
   "metadata": {},
   "outputs": [],
   "source": [
    "import math\n",
    "import re\n",
    "from collections import Counter\n",
    "\n",
    "import datetime\n",
    "import pandas as pd\n",
    "import ast"
   ]
  },
  {
   "cell_type": "code",
   "execution_count": 4,
   "metadata": {},
   "outputs": [],
   "source": [
    "WORD = re.compile(r\"\\w+\")\n",
    "\n",
    "# get current year to save in applicable folder\n",
    "current_year = datetime.date.today().year"
   ]
  },
  {
   "cell_type": "code",
   "execution_count": 5,
   "metadata": {},
   "outputs": [
    {
     "name": "stderr",
     "output_type": "stream",
     "text": [
      "C:\\Users\\katma\\anaconda3\\lib\\site-packages\\IPython\\core\\interactiveshell.py:3071: DtypeWarning: Columns (5) have mixed types. Specify dtype option on import or set low_memory=False.\n",
      "  has_raised = await self.run_ast_nodes(code_ast.body, cell_name,\n"
     ]
    }
   ],
   "source": [
    "# data import\n",
    "journal_ratings_scimago = pd.read_csv(f'../data/{current_year}/journal_ratings_scimago.csv', sep=\";\")\n",
    "journal_ratings_vhb = pd.read_csv(f'../data/{current_year}/journal_ratings_vhb.csv')\n",
    "\n",
    "publications_test_gs = pd.read_csv(f'../data/{current_year}/publications_test_gs.csv')\n",
    "publications_test_rg = pd.read_csv(f'../data/{current_year}/publications_test_rg.csv')"
   ]
  },
  {
   "cell_type": "code",
   "execution_count": 6,
   "metadata": {},
   "outputs": [],
   "source": [
    "# functions to get similarity of strings using cosine similarity\n",
    "\n",
    "def get_cosine(vec1, vec2):\n",
    "    intersection = set(vec1.keys()) & set(vec2.keys())\n",
    "    numerator = sum([vec1[x] * vec2[x] for x in intersection])\n",
    "\n",
    "    sum1 = sum([vec1[x] ** 2 for x in list(vec1.keys())])\n",
    "    sum2 = sum([vec2[x] ** 2 for x in list(vec2.keys())])\n",
    "    denominator = math.sqrt(sum1) * math.sqrt(sum2)\n",
    "\n",
    "    if not denominator:\n",
    "        return 0.0\n",
    "    else:\n",
    "        return float(numerator) / denominator\n",
    "\n",
    "\n",
    "def text_to_vector(text):\n",
    "    words = WORD.findall(text)\n",
    "    return Counter(words)"
   ]
  },
  {
   "cell_type": "code",
   "execution_count": 70,
   "metadata": {},
   "outputs": [],
   "source": [
    "def is_similar(text1, text2):\n",
    "    \n",
    "    vector1 = text_to_vector(text1.lower())\n",
    "    vector2 = text_to_vector(text2.lower())\n",
    "\n",
    "    cosine = get_cosine(vector1, vector2)\n",
    "    print(cosine)\n",
    "    \n",
    "    if cosine > 0.7:\n",
    "        similar = True\n",
    "    else:\n",
    "        similar = False\n",
    "        \n",
    "    return similar"
   ]
  },
  {
   "cell_type": "code",
   "execution_count": 79,
   "metadata": {},
   "outputs": [],
   "source": [
    "def get_not_none_string(string1, string2):\n",
    "    \n",
    "    if string1 and not string2:\n",
    "        return string1\n",
    "    \n",
    "    elif string2 and not string1:\n",
    "        return string2\n",
    "    \n",
    "    elif string1 and string2:\n",
    "        return max([string1, string2], key=len)\n",
    "    \n",
    "    else:\n",
    "        return None"
   ]
  },
  {
   "cell_type": "code",
   "execution_count": 116,
   "metadata": {},
   "outputs": [],
   "source": [
    "def combine_publication(row_gs, row_rg):\n",
    "    \n",
    "    title = get_not_none_string(row_gs['PUB_TITLE'], row_rg['PUB_TITLE'])\n",
    "    year = max([row_gs['PUB_YEAR'], row_rg['PUB_YEAR']])\n",
    "    publisher = get_not_none_string(row_gs['PUB_PUBLISHER'], row_rg['PUB_PUBLISHER'])\n",
    "    \n",
    "    authors_gs = [n.strip() for n in ast.literal_eval(row_gs[\"PUB_AUTHORS\"])]\n",
    "    authors_rg = [n.strip() for n in ast.literal_eval(row_rg[\"PUB_AUTHORS\"])]\n",
    "    authors = list(set(authors_gs + authors_rg))\n",
    "\n",
    "    \n",
    "    data = {\n",
    "        'AUTHOR_NAME': row_gs[\"AUTHOR_NAME\"],\n",
    "        'PUB_TITLE': title, \n",
    "        'PUB_YEAR': year, \n",
    "        'PUB_AUTHORS': authors,  \n",
    "        'PUB_TYPE': row_rg['PUB_TYPE'],\n",
    "        'PUB_PUBLISHER': publisher,\n",
    "        'PUB_ISBN': row_rg['PUB_ISBN'],\n",
    "        'PUB_DOI': row_rg['PUB_DOI']\n",
    "       }\n",
    "\n",
    "    return data"
   ]
  },
  {
   "cell_type": "code",
   "execution_count": 28,
   "metadata": {},
   "outputs": [],
   "source": [
    "# get all unique names\n",
    "all_author_names = publications_test_gs['AUTHOR_NAME'].tolist() + publications_test_rg['AUTHOR_NAME'].tolist()\n",
    "all_author_names = set(all_names) # make unique"
   ]
  },
  {
   "cell_type": "code",
   "execution_count": 119,
   "metadata": {},
   "outputs": [],
   "source": [
    "#for author_name in all_author_names:\n",
    "author_name = \"Stephan Daurer\" \n",
    "    \n",
    "subset_test_gs = publications_test_gs[publications_test_gs['AUTHOR_NAME'] == author_name]\n",
    "subset_test_rg = publications_test_rg[publications_test_rg['AUTHOR_NAME'] == author_name]"
   ]
  },
  {
   "cell_type": "code",
   "execution_count": 118,
   "metadata": {},
   "outputs": [
    {
     "name": "stdout",
     "output_type": "stream",
     "text": [
      "0.857142857142857\n",
      "Einführung in die Wirtschaftsinformatik: Ein fallstudienbasiertes Lehrbuch\n",
      "Einführung in die Wirtschaftsinformatik: Ein fallstudienbasierendes Lehrbuch\n",
      "{'AUTHOR_NAME': 'Stephan Daurer', 'PUB_TITLE': 'Digitalisierung und Konvergenz von Online-und Offline-Welt: Einfluss der mobilen Internetsuche auf das Kaufverhalten', 'PUB_YEAR': 2021.0, 'PUB_AUTHORS': ['S Daurer', 'Arthur Kolb', 'Michael A. Bächle', 'M Spann', 'D Molitor', 'Stephan Daurer'], 'PUB_TYPE': 'Book', 'PUB_PUBLISHER': 'Zeitschrift für Betriebswirtschaft (ZfB)', 'PUB_ISBN': ' 9783110722253', 'PUB_DOI': '10.1515/9783110722260'}\n",
      "0.0\n",
      "0.0\n",
      "0.14285714285714285\n",
      "0.08671099695241198\n",
      "0.857142857142857\n",
      "Einführung in die Wirtschaftsinformatik: Ein fallstudienbasiertes Lehrbuch\n",
      "Einführung in die Wirtschaftsinformatik: Ein fallstudienbasierendes Lehrbuch\n",
      "{'AUTHOR_NAME': 'Stephan Daurer', 'PUB_TITLE': 'Einführung in die Wirtschaftsinformatik: Ein fallstudienbasiertes Lehrbuch', 'PUB_YEAR': 2018.0, 'PUB_AUTHORS': ['S Daurer', 'Arthur Kolb', 'Michael A. Bächle', 'M Spann', 'P Manchanda', 'D Molitor', 'Stephan Daurer'], 'PUB_TYPE': 'Book', 'PUB_PUBLISHER': 'Ross School of Business Paper', 'PUB_ISBN': ' 978-3110469325', 'PUB_DOI': '10.1515/9783110469332'}\n",
      "0.11396057645963795\n",
      "0.0\n",
      "0.0\n",
      "0.0\n",
      "0.1259881576697424\n",
      "0.0\n",
      "0.0\n",
      "0.0\n",
      "0.0\n",
      "0.0\n",
      "0.0\n",
      "0.0\n",
      "0.0\n",
      "0.0\n",
      "0.0\n",
      "0.0\n",
      "0.0\n",
      "0.0\n",
      "0.0\n",
      "0.0\n",
      "0.0\n",
      "0.0\n",
      "0.0\n",
      "0.0\n",
      "0.0\n",
      "0.0\n",
      "0.07254762501100116\n",
      "0.0\n",
      "0.0\n",
      "0.07254762501100116\n",
      "0.0\n",
      "0.0\n",
      "0.0\n",
      "0.0\n",
      "0.0\n",
      "0.12909944487358058\n",
      "0.0\n",
      "0.0\n",
      "0.0\n",
      "0.0816496580927726\n",
      "0.0816496580927726\n",
      "0.0\n",
      "0.9999999999999998\n",
      "Consumer Search Behavior on the Mobile Internet: An Empirical Analysis\n",
      "Consumer Search Behavior on the Mobile Internet: An Empirical Analysis\n"
     ]
    },
    {
     "ename": "TypeError",
     "evalue": "object of type 'float' has no len()",
     "output_type": "error",
     "traceback": [
      "\u001b[1;31m---------------------------------------------------------------------------\u001b[0m",
      "\u001b[1;31mTypeError\u001b[0m                                 Traceback (most recent call last)",
      "\u001b[1;32m<ipython-input-118-3513a7cea7c7>\u001b[0m in \u001b[0;36m<module>\u001b[1;34m\u001b[0m\n\u001b[0;32m     24\u001b[0m                 \u001b[0msubset_test_rg\u001b[0m \u001b[1;33m=\u001b[0m \u001b[0msubset_test_rg\u001b[0m\u001b[1;33m.\u001b[0m\u001b[0mdrop\u001b[0m\u001b[1;33m(\u001b[0m\u001b[0mindex\u001b[0m\u001b[1;33m)\u001b[0m\u001b[1;33m.\u001b[0m\u001b[0mreset_index\u001b[0m\u001b[1;33m(\u001b[0m\u001b[0mdrop\u001b[0m\u001b[1;33m=\u001b[0m\u001b[1;32mTrue\u001b[0m\u001b[1;33m)\u001b[0m\u001b[1;33m\u001b[0m\u001b[1;33m\u001b[0m\u001b[0m\n\u001b[0;32m     25\u001b[0m \u001b[1;33m\u001b[0m\u001b[0m\n\u001b[1;32m---> 26\u001b[1;33m                 \u001b[0mcombined_row\u001b[0m \u001b[1;33m=\u001b[0m \u001b[0mcombine_publication\u001b[0m\u001b[1;33m(\u001b[0m\u001b[0msubset_test_gs\u001b[0m\u001b[1;33m.\u001b[0m\u001b[0miloc\u001b[0m\u001b[1;33m[\u001b[0m\u001b[1;36m0\u001b[0m\u001b[1;33m]\u001b[0m\u001b[1;33m,\u001b[0m \u001b[0mrow\u001b[0m\u001b[1;33m)\u001b[0m\u001b[1;33m\u001b[0m\u001b[1;33m\u001b[0m\u001b[0m\n\u001b[0m\u001b[0;32m     27\u001b[0m                 \u001b[0mprint\u001b[0m\u001b[1;33m(\u001b[0m\u001b[0mcombined_row\u001b[0m\u001b[1;33m)\u001b[0m\u001b[1;33m\u001b[0m\u001b[1;33m\u001b[0m\u001b[0m\n\u001b[0;32m     28\u001b[0m                 \u001b[0mpd_result\u001b[0m\u001b[1;33m.\u001b[0m\u001b[0mappend\u001b[0m\u001b[1;33m(\u001b[0m\u001b[0mcombined_row\u001b[0m \u001b[1;33m,\u001b[0m \u001b[0mignore_index\u001b[0m\u001b[1;33m=\u001b[0m\u001b[1;32mTrue\u001b[0m\u001b[1;33m)\u001b[0m\u001b[1;33m\u001b[0m\u001b[1;33m\u001b[0m\u001b[0m\n",
      "\u001b[1;32m<ipython-input-116-cfca567d661a>\u001b[0m in \u001b[0;36mcombine_publication\u001b[1;34m(row_gs, row_rg)\u001b[0m\n\u001b[0;32m      3\u001b[0m     \u001b[0mtitle\u001b[0m \u001b[1;33m=\u001b[0m \u001b[0mget_not_none_string\u001b[0m\u001b[1;33m(\u001b[0m\u001b[0mrow_gs\u001b[0m\u001b[1;33m[\u001b[0m\u001b[1;34m'PUB_TITLE'\u001b[0m\u001b[1;33m]\u001b[0m\u001b[1;33m,\u001b[0m \u001b[0mrow_rg\u001b[0m\u001b[1;33m[\u001b[0m\u001b[1;34m'PUB_TITLE'\u001b[0m\u001b[1;33m]\u001b[0m\u001b[1;33m)\u001b[0m\u001b[1;33m\u001b[0m\u001b[1;33m\u001b[0m\u001b[0m\n\u001b[0;32m      4\u001b[0m     \u001b[0myear\u001b[0m \u001b[1;33m=\u001b[0m \u001b[0mmax\u001b[0m\u001b[1;33m(\u001b[0m\u001b[1;33m[\u001b[0m\u001b[0mrow_gs\u001b[0m\u001b[1;33m[\u001b[0m\u001b[1;34m'PUB_YEAR'\u001b[0m\u001b[1;33m]\u001b[0m\u001b[1;33m,\u001b[0m \u001b[0mrow_rg\u001b[0m\u001b[1;33m[\u001b[0m\u001b[1;34m'PUB_YEAR'\u001b[0m\u001b[1;33m]\u001b[0m\u001b[1;33m]\u001b[0m\u001b[1;33m)\u001b[0m\u001b[1;33m\u001b[0m\u001b[1;33m\u001b[0m\u001b[0m\n\u001b[1;32m----> 5\u001b[1;33m     \u001b[0mpublisher\u001b[0m \u001b[1;33m=\u001b[0m \u001b[0mget_not_none_string\u001b[0m\u001b[1;33m(\u001b[0m\u001b[0mrow_gs\u001b[0m\u001b[1;33m[\u001b[0m\u001b[1;34m'PUB_PUBLISHER'\u001b[0m\u001b[1;33m]\u001b[0m\u001b[1;33m,\u001b[0m \u001b[0mrow_rg\u001b[0m\u001b[1;33m[\u001b[0m\u001b[1;34m'PUB_PUBLISHER'\u001b[0m\u001b[1;33m]\u001b[0m\u001b[1;33m)\u001b[0m\u001b[1;33m\u001b[0m\u001b[1;33m\u001b[0m\u001b[0m\n\u001b[0m\u001b[0;32m      6\u001b[0m \u001b[1;33m\u001b[0m\u001b[0m\n\u001b[0;32m      7\u001b[0m     \u001b[0mauthors_gs\u001b[0m \u001b[1;33m=\u001b[0m \u001b[1;33m[\u001b[0m\u001b[0mn\u001b[0m\u001b[1;33m.\u001b[0m\u001b[0mstrip\u001b[0m\u001b[1;33m(\u001b[0m\u001b[1;33m)\u001b[0m \u001b[1;32mfor\u001b[0m \u001b[0mn\u001b[0m \u001b[1;32min\u001b[0m \u001b[0mast\u001b[0m\u001b[1;33m.\u001b[0m\u001b[0mliteral_eval\u001b[0m\u001b[1;33m(\u001b[0m\u001b[0mrow_gs\u001b[0m\u001b[1;33m[\u001b[0m\u001b[1;34m\"PUB_AUTHORS\"\u001b[0m\u001b[1;33m]\u001b[0m\u001b[1;33m)\u001b[0m\u001b[1;33m]\u001b[0m\u001b[1;33m\u001b[0m\u001b[1;33m\u001b[0m\u001b[0m\n",
      "\u001b[1;32m<ipython-input-79-bcfa7238e08c>\u001b[0m in \u001b[0;36mget_not_none_string\u001b[1;34m(string1, string2)\u001b[0m\n\u001b[0;32m      8\u001b[0m \u001b[1;33m\u001b[0m\u001b[0m\n\u001b[0;32m      9\u001b[0m     \u001b[1;32melif\u001b[0m \u001b[0mstring1\u001b[0m \u001b[1;32mand\u001b[0m \u001b[0mstring2\u001b[0m\u001b[1;33m:\u001b[0m\u001b[1;33m\u001b[0m\u001b[1;33m\u001b[0m\u001b[0m\n\u001b[1;32m---> 10\u001b[1;33m         \u001b[1;32mreturn\u001b[0m \u001b[0mmax\u001b[0m\u001b[1;33m(\u001b[0m\u001b[1;33m[\u001b[0m\u001b[0mstring1\u001b[0m\u001b[1;33m,\u001b[0m \u001b[0mstring2\u001b[0m\u001b[1;33m]\u001b[0m\u001b[1;33m,\u001b[0m \u001b[0mkey\u001b[0m\u001b[1;33m=\u001b[0m\u001b[0mlen\u001b[0m\u001b[1;33m)\u001b[0m\u001b[1;33m\u001b[0m\u001b[1;33m\u001b[0m\u001b[0m\n\u001b[0m\u001b[0;32m     11\u001b[0m \u001b[1;33m\u001b[0m\u001b[0m\n\u001b[0;32m     12\u001b[0m     \u001b[1;32melse\u001b[0m\u001b[1;33m:\u001b[0m\u001b[1;33m\u001b[0m\u001b[1;33m\u001b[0m\u001b[0m\n",
      "\u001b[1;31mTypeError\u001b[0m: object of type 'float' has no len()"
     ]
    }
   ],
   "source": [
    "pd_result = pd.DataFrame(columns=['AUTHOR_NAME', 'PUB_TITLE', 'PUB_YEAR', \n",
    "                                                  'PUB_AUTHORS', 'PUB_TYPE', 'PUB_PUBLISHER', \n",
    "                                                  'PUB_ISBN', 'PUB_DOI' ])\n",
    "\n",
    "has_publications = True\n",
    "while(has_publications):\n",
    "    if len(subset_test_gs) == 0:\n",
    "        has_publications = False\n",
    "        \n",
    "    else:\n",
    "        # get title of first GS publication\n",
    "        title_gs = subset_test_gs.iloc[0][\"PUB_TITLE\"]\n",
    "        duplicate_found = False\n",
    "        \n",
    "        # iterate over RG subset\n",
    "        for index, row in subset_test_rg.iterrows():\n",
    "            if is_similar(row[\"PUB_TITLE\"], title_gs): # similar title found\n",
    "                duplicate_found = True\n",
    "                print(row[\"PUB_TITLE\"])\n",
    "                print(title_gs)\n",
    "            \n",
    "                # remove the found match from the subsets\n",
    "                subset_test_gs = subset_test_gs.drop(index=0).reset_index(drop=True)\n",
    "                subset_test_rg = subset_test_rg.drop(index).reset_index(drop=True)\n",
    "                \n",
    "                combined_row = combine_publication(subset_test_gs.iloc[0], row)\n",
    "                print(combined_row)\n",
    "                pd_result.append(combined_row , ignore_index=True)\n",
    "            \n",
    "        if not duplicate_found:\n",
    "            print(title_gs)\n",
    "            pd_result.append(subset_test_gs.iloc[0], ignore_index=True)\n",
    "            subset_test_gs = subset_test_gs.drop(index=0).reset_index(drop=True)\n",
    "            \n",
    "    "
   ]
  },
  {
   "cell_type": "code",
   "execution_count": 115,
   "metadata": {},
   "outputs": [
    {
     "data": {
      "text/html": [
       "<div>\n",
       "<style scoped>\n",
       "    .dataframe tbody tr th:only-of-type {\n",
       "        vertical-align: middle;\n",
       "    }\n",
       "\n",
       "    .dataframe tbody tr th {\n",
       "        vertical-align: top;\n",
       "    }\n",
       "\n",
       "    .dataframe thead th {\n",
       "        text-align: right;\n",
       "    }\n",
       "</style>\n",
       "<table border=\"1\" class=\"dataframe\">\n",
       "  <thead>\n",
       "    <tr style=\"text-align: right;\">\n",
       "      <th></th>\n",
       "      <th>AUTHOR_NAME</th>\n",
       "      <th>PUB_TITLE</th>\n",
       "      <th>PUB_YEAR</th>\n",
       "      <th>PUB_AUTHORS</th>\n",
       "      <th>PUB_TYPE</th>\n",
       "      <th>PUB_PUBLISHER</th>\n",
       "      <th>PUB_ISBN</th>\n",
       "      <th>PUB_DOI</th>\n",
       "    </tr>\n",
       "  </thead>\n",
       "  <tbody>\n",
       "  </tbody>\n",
       "</table>\n",
       "</div>"
      ],
      "text/plain": [
       "Empty DataFrame\n",
       "Columns: [AUTHOR_NAME, PUB_TITLE, PUB_YEAR, PUB_AUTHORS, PUB_TYPE, PUB_PUBLISHER, PUB_ISBN, PUB_DOI]\n",
       "Index: []"
      ]
     },
     "execution_count": 115,
     "metadata": {},
     "output_type": "execute_result"
    }
   ],
   "source": [
    "pd_result"
   ]
  }
 ],
 "metadata": {
  "kernelspec": {
   "display_name": "Python 3",
   "language": "python",
   "name": "python3"
  },
  "language_info": {
   "codemirror_mode": {
    "name": "ipython",
    "version": 3
   },
   "file_extension": ".py",
   "mimetype": "text/x-python",
   "name": "python",
   "nbconvert_exporter": "python",
   "pygments_lexer": "ipython3",
   "version": "3.8.3"
  }
 },
 "nbformat": 4,
 "nbformat_minor": 4
}
